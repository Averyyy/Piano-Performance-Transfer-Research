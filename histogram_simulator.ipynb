{
 "cells": [
  {
   "cell_type": "code",
   "execution_count": 11,
   "metadata": {},
   "outputs": [],
   "source": [
    "import pandas as pd\n",
    "import numpy as np\n",
    "from mpl_toolkits.mplot3d import Axes3D\n",
    "import matplotlib.pyplot as plt\n",
    "from pylab import *\n",
    "from main_with_simulation import *"
   ]
  },
  {
   "cell_type": "code",
   "execution_count": 7,
   "metadata": {},
   "outputs": [],
   "source": [
    "ref_pitch = 69\n",
    "ref_vel = 60\n",
    "var_pitch = 63"
   ]
  },
  {
   "cell_type": "code",
   "execution_count": 8,
   "metadata": {},
   "outputs": [],
   "source": [
    "def save_plot(filename, randrange, testround):\n",
    "    pse_records = pd.read_csv(filename) ## pse_records 的目录 ** needed to change\n",
    "    # plt.show()\n",
    "    std = format(np.std(pse_records.var_pse_v, ddof=1), '.2f')\n",
    "    plt.title(f'Rand Range = {randrange}, Test Round={testround}, std = {std}')\n",
    "    pse_60 = pse_records.query(f'ref_p == {ref_pitch} and ref_v == {ref_vel} and var_p == {var_pitch}')\n",
    "    pse_60.var_pse_v.hist()\n",
    "    plt.savefig(f'simulator_files/results/range{randrange}_test{testround}.png', format = 'png', dpi = 300)\n",
    "    plt.clf()"
   ]
  },
  {
   "cell_type": "code",
   "execution_count": null,
   "metadata": {},
   "outputs": [],
   "source": [
    "def findstd(filename):\n",
    "    pse_records = pd.read_csv(filename) ## pse_records 的目录 ** needed to change\n",
    "    # plt.show()\n",
    "    std = np.std(pse_records.var_pse_v, ddof=1)"
   ]
  },
  {
   "cell_type": "code",
   "execution_count": 12,
   "metadata": {},
   "outputs": [],
   "source": [
    "def threedplot(testround, rndrange, simulationtime, std):\n",
    "    # x, y, z = testround, rndrange, simulationtime\n",
    "    x = np.random.randint(low=10, high=1000, size=(1000,))\n",
    "    y = np.random.randint(low=20, high=1000, size=(1000,))\n",
    "    z = np.random.randint(low=1, high=1000, size=(1000,))\n",
    "    colo = std\n",
    "    fig = plt.figure(figsize=(20, 20))\n",
    "    ax = fig.add_subplot(111, projection='3d')\n",
    "\n",
    "    color_map = cm.ScalarMappable(cmap=cm.Greens_r)\n",
    "    color_map.set_array(colo)\n",
    "\n",
    "    img = ax.scatter(x, y, z, marker='s',\n",
    "                 s=200, color='red')\n",
    "    plt.colorbar(color_map)\n",
    "\n",
    "    ax.set_title(\"3D Heatmap\")\n",
    "    ax.set_xlabel('X-axis')\n",
    "    ax.set_ylabel('Y-axis')\n",
    "    ax.set_zlabel('Z-axis')\n",
    "\n",
    "    plt.show()\n",
    "\n"
   ]
  },
  {
   "cell_type": "code",
   "execution_count": null,
   "metadata": {},
   "outputs": [],
   "source": [
    "# threedplot([0,1], [15,20], [5, 10], [5.1, 3.7, 2.1, 2.4, 1.5, 1.1, 0.7, 0.5])"
   ]
  },
  {
   "cell_type": "code",
   "execution_count": 10,
   "metadata": {},
   "outputs": [
    {
     "data": {
      "text/plain": [
       "<Figure size 432x288 with 0 Axes>"
      ]
     },
     "metadata": {},
     "output_type": "display_data"
    }
   ],
   "source": [
    "randrange, testround, simulation = []\n",
    "for t in TEST_ROUND:\n",
    "    for r in RND_RANGE:\n",
    "        for time in TIMES:\n",
    "            filename = f'simulator_files/pse_{r}_simulator{t}_time.csv'\n",
    "            data = findstd(filename)\n",
    "            randrange.append(data[0])\n",
    "            testround.append(data[1])\n",
    "            \n",
    "\n",
    "\n"
   ]
  }
 ],
 "metadata": {
  "interpreter": {
   "hash": "aee8b7b246df8f9039afb4144a1f6fd8d2ca17a180786b69acc140d282b71a49"
  },
  "kernelspec": {
   "display_name": "Python 3.8.1 64-bit",
   "name": "python3"
  },
  "language_info": {
   "codemirror_mode": {
    "name": "ipython",
    "version": 3
   },
   "file_extension": ".py",
   "mimetype": "text/x-python",
   "name": "python",
   "nbconvert_exporter": "python",
   "pygments_lexer": "ipython3",
   "version": "3.8.12"
  },
  "orig_nbformat": 4
 },
 "nbformat": 4,
 "nbformat_minor": 2
}
